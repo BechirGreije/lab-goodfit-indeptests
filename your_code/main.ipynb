{
 "cells": [
  {
   "cell_type": "markdown",
   "metadata": {},
   "source": [
    "## Question 1\n",
    "The following table indicates the number of 6-point scores in an American rugby match in the 1979 season.\n",
    "\n",
    "![](table1.png)\n",
    "\n",
    "Based on these results, we create a Poisson distribution with the sample mean parameter  = 2.435. Is there any reason to believe that at a .05 level the number of scores is a Poisson variable?"
   ]
  },
  {
   "cell_type": "code",
   "execution_count": 1,
   "metadata": {},
   "outputs": [],
   "source": [
    "# your answer here\n",
    "import numpy as np\n",
    "import scipy.stats as st"
   ]
  },
  {
   "cell_type": "code",
   "execution_count": 7,
   "metadata": {},
   "outputs": [
    {
     "name": "stdout",
     "output_type": "stream",
     "text": [
      "[0.08759775 0.21330051 0.25969338 0.21078446 0.12831504 0.06248942\n",
      " 0.02536029]\n",
      "[0.08759775 0.21330051 0.25969338 0.21078446 0.12831504 0.06248942\n",
      " 0.02536029 0.01245915]\n"
     ]
    },
    {
     "data": {
      "text/plain": [
       "1.0"
      ]
     },
     "execution_count": 7,
     "metadata": {},
     "output_type": "execute_result"
    }
   ],
   "source": [
    "''' \n",
    "H0: Distribution Observed ~ Poisson(2.435) \n",
    "\n",
    "H1: Distribution Observed !~ Poisson(2.435)\n",
    "'''\n",
    "\n",
    "alpha = 0.05\n",
    "\n",
    "\n",
    "OV = np.array([35,99,104,110,62,25,10,3]) \n",
    "\n",
    "from scipy.stats import poisson\n",
    "\n",
    "lamb = 2.435\n",
    "\n",
    "poisson_dist = poisson(lamb)\n",
    "\n",
    "poisson_pmfs = np.array([poisson_dist.pmf(i) for i in range(0,7)]) \n",
    "\n",
    "print(poisson_pmfs)\n",
    "\n",
    "\n",
    "with_tail = np.append(poisson_pmfs,poisson_dist.sf(6))\n",
    "\n",
    "print(with_tail)\n",
    "\n",
    "np.sum(with_tail) # this has to sum to 1 "
   ]
  },
  {
   "cell_type": "code",
   "execution_count": 11,
   "metadata": {},
   "outputs": [
    {
     "name": "stdout",
     "output_type": "stream",
     "text": [
      "statistic:  6.491310681109792\n",
      "Pvalue:  0.48368890685373034\n",
      "we can't reject the H0\n"
     ]
    },
    {
     "data": {
      "text/plain": [
       "'We can say that our observations, with a 95% confidence level, follows a poisson distribution with parameter 2.435'"
      ]
     },
     "execution_count": 11,
     "metadata": {},
     "output_type": "execute_result"
    }
   ],
   "source": [
    "EV = with_tail * 448\n",
    "EV\n",
    "\n",
    "\n",
    "stat, pvalue = st.chisquare(f_obs=OV,f_exp=EV)\n",
    "\n",
    "print(\"statistic: \",stat)\n",
    "print(\"Pvalue: \",pvalue)\n",
    "\n",
    "if (pvalue<alpha)==True:\n",
    "    print(\"we reject the H0\")\n",
    "else:\n",
    "    print(\"we can't reject the H0\") \n",
    "\n",
    "'''We can say that our observations, with a 95% confidence level, follows a poisson distribution with parameter 2.435'''"
   ]
  },
  {
   "cell_type": "markdown",
   "metadata": {},
   "source": [
    "## BONUS/OPTIONAL - Question 2\n",
    "Let's analyze a discrete distribution. To analyze the number of defective items in a factory in the city of Medellín, we took a random sample of n = 60 articles and observed the number of defectives in the following table:\n",
    "\n",
    "![](table2.png)\n",
    "\n",
    "A poissón distribution was proposed since it is defined for x = 0,1,2,3, .... using the following model:\n",
    "\n",
    "![](image1.png)\n",
    "\n",
    "For some extra insights check the following link: https://online.stat.psu.edu/stat504/node/63/ \n",
    "\n",
    "Does the distribution of defective items follow this distribution?"
   ]
  },
  {
   "cell_type": "code",
   "execution_count": 16,
   "metadata": {},
   "outputs": [],
   "source": [
    "# your code here\n"
   ]
  },
  {
   "cell_type": "markdown",
   "metadata": {},
   "source": [
    "## Question 3\n",
    "A quality control engineer takes a sample of 10 tires that come out of an assembly line, and would like to verify on the basis of the data that follows, if the number of tires with defects observed over 200 days, if it is true that 5% of all tires have defects (that is, if the sample comes from a binomial population with n = 10 and p = 0.05). \n",
    "\n",
    "![](table3.png)\n"
   ]
  },
  {
   "cell_type": "code",
   "execution_count": 28,
   "metadata": {},
   "outputs": [
    {
     "name": "stdout",
     "output_type": "stream",
     "text": [
      "Statistic:  8.30617951954277\n",
      "Pvalue 0.015715783395951168\n",
      "we reject the H0\n"
     ]
    },
    {
     "data": {
      "text/plain": [
       "' so we can say that the values observed do not significantly follow a binomial distribution '"
      ]
     },
     "execution_count": 28,
     "metadata": {},
     "output_type": "execute_result"
    }
   ],
   "source": [
    "# your answer here\n",
    "'''\n",
    "H0: dist ~ Binomial(n=10, p=0.05)\n",
    "H1: dist ~! Binomial(n=10, p=0.05)\n",
    "'''\n",
    "\n",
    "alpha = 0.05\n",
    "\n",
    "\n",
    "OV = np.array([138,53,9])\n",
    "## Compute the expected values under the null hypotheses\n",
    "from scipy.stats import binom\n",
    "p=0.05\n",
    "n=10\n",
    "binomial_dist = binom(n,p)\n",
    "\n",
    "binomial_pmfs = np.array([binomial_dist.pmf(i) for i in range(0,2)]) \n",
    "with_tail=np.append(binomial_pmfs,binomial_dist.sf(1))\n",
    "\n",
    "EV = np.array(with_tail) * 200\n",
    "\n",
    "stat, pvalue = st.chisquare(f_obs=OV,f_exp=EV)\n",
    "\n",
    "print(\"Statistic: \",stat)\n",
    "print('Pvalue',pvalue)\n",
    "\n",
    "if (pvalue<alpha)==True:\n",
    "    print(\"we reject the H0\")\n",
    "else:\n",
    "    print(\"we can't reject the H0\")\n",
    "\n",
    "''' so we can say that the values observed do not significantly follow a binomial distribution '''"
   ]
  },
  {
   "cell_type": "markdown",
   "metadata": {},
   "source": [
    "## Question 4\n",
    "A researcher gathers information about the patterns of Physical Activity of children in the fifth grade of primary school of a public school. He defines three categories of physical activity (Low, Medium, High). He also inquires about the regular consumption of sugary drinks at school, and defines two categories (Yes = consumed, No = not consumed). We would like to evaluate if there is an association between patterns of physical activity and the consumption of sugary drinks for the children of this school, at a level of 5% significance. The results are in the following table: \n",
    "\n",
    "![](table4.png)"
   ]
  },
  {
   "cell_type": "code",
   "execution_count": 30,
   "metadata": {},
   "outputs": [
    {
     "name": "stdout",
     "output_type": "stream",
     "text": [
      "Statistic:  10.712198008709638\n",
      "Pvalue:  0.004719280137040844\n",
      "degree of freedom:  2\n",
      "Expected values:  [[24.08421053 19.91578947]\n",
      " [19.70526316 16.29473684]\n",
      " [ 8.21052632  6.78947368]]\n"
     ]
    }
   ],
   "source": [
    "#your answer here\n",
    "\n",
    "'''\n",
    "Association Test:\n",
    "\n",
    "H0: consumption of sugary drinks are independent of level of physical activity\n",
    "H1: consumption of sugary drinks are dependent of level of physical activity\n",
    "'''\n",
    "alpha = 0.05\n",
    "\n",
    "## we just need the observed values now:\n",
    "\n",
    "\n",
    "table = np.array([[32,12],\n",
    "                  [14,22],\n",
    "                  [6,9],\n",
    "                           ])\n",
    "\n",
    "stat, pvalue, ddof, ev = st.chi2_contingency(table)\n",
    "\n",
    "print(\"Statistic: \", stat)\n",
    "print(\"Pvalue: \", pvalue)\n",
    "print(\"degree of freedom: \", ddof)\n",
    "print(\"Expected values: \", ev)"
   ]
  }
 ],
 "metadata": {
  "kernelspec": {
   "display_name": "Python 3.9.13 ('julyiron')",
   "language": "python",
   "name": "python3"
  },
  "language_info": {
   "codemirror_mode": {
    "name": "ipython",
    "version": 3
   },
   "file_extension": ".py",
   "mimetype": "text/x-python",
   "name": "python",
   "nbconvert_exporter": "python",
   "pygments_lexer": "ipython3",
   "version": "3.9.13"
  },
  "vscode": {
   "interpreter": {
    "hash": "a462c9424ba5386811a6ac56e6a070cb1849ca665284423aba7c9a9f9b78271d"
   }
  }
 },
 "nbformat": 4,
 "nbformat_minor": 2
}
